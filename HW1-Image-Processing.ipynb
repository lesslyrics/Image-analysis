{
 "cells": [
  {
   "cell_type": "code",
   "execution_count": 13,
   "metadata": {},
   "outputs": [],
   "source": [
    "import cv2\n",
    "import numpy as np\n",
    "from matplotlib import pyplot as plt\n"
   ]
  },
  {
   "cell_type": "code",
   "execution_count": 14,
   "metadata": {},
   "outputs": [],
   "source": [
    "# Task 1 - convert to grayscale\n",
    "image = cv2.imread('image.jpg')\n",
    "gray = cv2.cvtColor(image, cv2.COLOR_BGR2GRAY)\n",
    "  \n",
    "cv2.imshow('Original image',image)\n",
    "cv2.imshow('Gray image', gray)\n",
    "  \n",
    "cv2.waitKey(0)\n",
    "cv2.destroyAllWindows()"
   ]
  },
  {
   "cell_type": "code",
   "execution_count": 15,
   "metadata": {},
   "outputs": [],
   "source": [
    "# Task 2 - rotate 45 degrees\n",
    "image_center = tuple(np.array(image.shape[1::-1]) / 2)\n",
    "rot_mat = cv2.getRotationMatrix2D(image_center, 45, 1.0)\n",
    "rotated = cv2.warpAffine(image, rot_mat, image.shape[1::-1], flags=cv2.INTER_LINEAR)\n",
    "cv2.imshow('Rotated image', rotated)\n",
    "  \n",
    "cv2.waitKey(0)\n",
    "cv2.destroyAllWindows()"
   ]
  },
  {
   "cell_type": "code",
   "execution_count": 16,
   "metadata": {},
   "outputs": [],
   "source": [
    "# Task 3 - change brightness\n",
    "brightness_value = 130\n",
    "hsv = cv2.cvtColor(image, cv2.COLOR_BGR2HSV)\n",
    "h, s, v = cv2.split(hsv)\n",
    "\n",
    "lim = 255 - brightness_value\n",
    "v[v > lim] = 255\n",
    "v[v <= lim] += brightness_value\n",
    "\n",
    "final_hsv = cv2.merge((h, s, v))\n",
    "image_br = cv2.cvtColor(final_hsv, cv2.COLOR_HSV2BGR)\n",
    "cv2.imshow('Image with increased brightness', image_br)\n",
    "  \n",
    "cv2.waitKey(0)\n",
    "cv2.destroyAllWindows()"
   ]
  },
  {
   "cell_type": "code",
   "execution_count": 17,
   "metadata": {},
   "outputs": [],
   "source": [
    "# Task 4 - change contrast\n",
    "contrast_value = 2\n",
    "\n",
    "adjusted = cv2.convertScaleAbs(image, alpha=contrast_value)\n",
    "\n",
    "cv2.imshow('Image with increased contrast', adjusted)\n",
    "\n",
    "cv2.waitKey(0)\n",
    "cv2.destroyAllWindows()"
   ]
  },
  {
   "cell_type": "code",
   "execution_count": 18,
   "metadata": {},
   "outputs": [],
   "source": [
    "# Task 5 - image binarization\n",
    "gray = cv2.cvtColor(image, cv2.COLOR_BGR2GRAY)\n",
    "\n",
    "th, image_bin = cv2.threshold(gray, 128, 255, cv2.THRESH_BINARY)\n",
    "\n",
    "cv2.imshow('Image binarization', image_bin)\n",
    "\n",
    "cv2.waitKey(0)\n",
    "cv2.destroyAllWindows()"
   ]
  },
  {
   "cell_type": "code",
   "execution_count": 19,
   "metadata": {},
   "outputs": [],
   "source": [
    "# Task 6 - find contours of binary image\n",
    "gray = cv2.cvtColor(image, cv2.COLOR_BGR2GRAY)\n",
    "th, image_bin = cv2.threshold(gray, 100, 255, cv2.THRESH_OTSU)\n",
    " \n",
    "# To detect object contours, we want a black background and a white foreground, so we invert\n",
    "inverted_bin = ~image_bin\n",
    "\n",
    "# Find the contours and store them in a list\n",
    "# hierarchy variable contains info about the relationship between the contours\n",
    "contours, hierarchy = cv2.findContours(inverted_bin,\n",
    "  cv2.RETR_TREE,\n",
    "  cv2.CHAIN_APPROX_SIMPLE)\n",
    "     \n",
    "img_contours = np.zeros(image_bin.shape)\n",
    "contours = cv2.drawContours(img_contours, contours, -1,(255,0,255),3)\n",
    "\n",
    "cv2.imshow('Contours', contours)\n",
    "cv2.waitKey(0)\n",
    "cv2.destroyAllWindows()"
   ]
  },
  {
   "cell_type": "code",
   "execution_count": 20,
   "metadata": {},
   "outputs": [],
   "source": [
    "# Task 7 - blur image\n",
    "blur = cv2.blur(image,(5,5))\n",
    "cv2.imshow('Blurred image', blur)\n",
    "\n",
    "cv2.waitKey(0)\n",
    "cv2.destroyAllWindows()"
   ]
  },
  {
   "cell_type": "code",
   "execution_count": 21,
   "metadata": {},
   "outputs": [],
   "source": [
    "# Task 8 - image erosion\n",
    "kernel = np.ones((5,5), np.uint8)\n",
    " \n",
    "# the third parameter will determine how much you want to erode a given image\n",
    "img_erosion = cv2.erode(image, kernel, iterations=2)\n",
    " \n",
    "cv2.imshow('Erosion', img_erosion)\n",
    " \n",
    "cv2.waitKey(0)\n",
    "cv2.destroyAllWindows()"
   ]
  },
  {
   "cell_type": "code",
   "execution_count": 22,
   "metadata": {},
   "outputs": [],
   "source": [
    "# Task 9 - image dilation\n",
    "kernel = np.ones((5,5), np.uint8)\n",
    "img_dilation = cv2.dilate(image, kernel, iterations=2)\n",
    " \n",
    "cv2.imshow('Dilation', img_dilation)\n",
    "\n",
    "cv2.waitKey(0)\n",
    "cv2.destroyAllWindows()"
   ]
  },
  {
   "cell_type": "code",
   "execution_count": 23,
   "metadata": {},
   "outputs": [],
   "source": [
    "# Task 10 - canny edges on image \n",
    "\n",
    "edges = cv2.Canny(image,100,200)\n",
    "\n",
    "cv2.imshow('Canny edges', edges)\n",
    "\n",
    "cv2.waitKey(0)\n",
    "cv2.destroyAllWindows()"
   ]
  },
  {
   "cell_type": "code",
   "execution_count": null,
   "metadata": {},
   "outputs": [],
   "source": []
  },
  {
   "cell_type": "code",
   "execution_count": null,
   "metadata": {},
   "outputs": [],
   "source": []
  }
 ],
 "metadata": {
  "kernelspec": {
   "display_name": "Python 3",
   "language": "python",
   "name": "python3"
  },
  "language_info": {
   "codemirror_mode": {
    "name": "ipython",
    "version": 3
   },
   "file_extension": ".py",
   "mimetype": "text/x-python",
   "name": "python",
   "nbconvert_exporter": "python",
   "pygments_lexer": "ipython3",
   "version": "3.8.10"
  }
 },
 "nbformat": 4,
 "nbformat_minor": 4
}
